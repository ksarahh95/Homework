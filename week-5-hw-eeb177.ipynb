{
 "cells": [
  {
   "cell_type": "markdown",
   "metadata": {},
   "source": [
    "# Part I: In Class Challenge Continue, the shell"
   ]
  },
  {
   "cell_type": "markdown",
   "metadata": {},
   "source": [
    "## Question 1: 194 families\n",
    "tail -n +4 ~/Desktop/eeb-177/class-assignments/formatted_nature.csv | cut -d \",\" -f 3 | sort | uniq | wc -l"
   ]
  },
  {
   "cell_type": "markdown",
   "metadata": {},
   "source": [
    "## Question 2: Trochilidae\n",
    "tail -n +4 ~/Desktop/eeb-177/class-assignments/formatted_nature.csv | cut -d \",\" -f 3 | sort | uniq -c | sort -n -r | head -n +1\n"
   ]
  },
  {
   "cell_type": "markdown",
   "metadata": {},
   "source": [
    "## Question 3: 60 species\n",
    "tail -n +4 ~/Desktop/eeb-177/class-assignments/formatted_nature.csv | cut -d \",\" -f 3 | sort | uniq -c | sort -n -r | grep -wcE \"\\s*1\\s*\""
   ]
  },
  {
   "cell_type": "markdown",
   "metadata": {},
   "source": [
    "## Question 4: 239 families\n",
    "tail -n +2 ~/Desktop/eeb-177/class-assignments/formatted_eBird.csv | cut -d \",\" -f 8 | sort | uniq | wc -l"
   ]
  },
  {
   "cell_type": "markdown",
   "metadata": {},
   "source": [
    "## Question 5: \n",
    "tail -n +2 ~/Desktop/eeb-177/class-assignments/formatted_eBird.csv | cut -d \",\" -f 8 | sort | uniq -c | sort -n"
   ]
  },
  {
   "cell_type": "markdown",
   "metadata": {},
   "source": [
    "# Part II: Bird Data in Python"
   ]
  },
  {
   "cell_type": "code",
   "execution_count": null,
   "metadata": {
    "collapsed": false
   },
   "outputs": [],
   "source": [
    "nature_data = open(\"nature.csv\")\n",
    "nature_dict = {}\n",
    "for line in nature_data:\n",
    "    positions = line.split(\",\")\n",
    "    nature_dict[positions[0]]=positions[2]\n",
    "for species in nature_dict:\n",
    "    print(\"Species \") + species + \" is in the family \" + nature_dict[species]\n",
    "\n",
    "#output really long"
   ]
  },
  {
   "cell_type": "code",
   "execution_count": null,
   "metadata": {
    "collapsed": true
   },
   "outputs": [],
   "source": [
    "ebird_data = open(\"eBird.csv\", encoding = \"ISO-8859-1\")\n",
    "ebird_dict = {}\n",
    "for line in ebird_data:\n",
    "    positions = line.split(\",\")\n",
    "    ebird_dict[positions[3]]=positions[7]\n",
    "for species in ebird_dict:\n",
    "    print(\"Species \" + species + \" is in the family \" + ebird_dict[species])\n",
    "    \n",
    "#output really long"
   ]
  },
  {
   "cell_type": "code",
   "execution_count": null,
   "metadata": {
    "collapsed": false
   },
   "outputs": [],
   "source": [
    "from collections import Counter\n",
    "ebird_list = list(ebird_dict.values())\n",
    "families = Counter(ebird_list)\n",
    "families = (dict(families))\n",
    "\n",
    "for numbers in families:\n",
    "    print(\"There are \" + str(families[numbers]) + \" in \" + str(numbers))\n",
    "\n",
    "#output really long"
   ]
  },
  {
   "cell_type": "markdown",
   "metadata": {},
   "source": [
    "# Part III"
   ]
  },
  {
   "cell_type": "code",
   "execution_count": 16,
   "metadata": {
    "collapsed": true
   },
   "outputs": [],
   "source": [
    "protein = \"MSRSLLLRFLLFLLLLPPLP\""
   ]
  },
  {
   "cell_type": "code",
   "execution_count": 17,
   "metadata": {
    "collapsed": false
   },
   "outputs": [
    {
     "name": "stdout",
     "output_type": "stream",
     "text": [
      "10.0\n"
     ]
    }
   ],
   "source": [
    "a = \"R\"\n",
    "a_count = protein.count(a)\n",
    "protein_length = len(protein)\n",
    "percentage = a_count * 100 / protein_length\n",
    "print(percentage)"
   ]
  },
  {
   "cell_type": "code",
   "execution_count": 19,
   "metadata": {
    "collapsed": true
   },
   "outputs": [],
   "source": [
    "def get_a_percent(protein, a):\n",
    "    protein = protein.upper()\n",
    "    a = a.upper()\n",
    "    a_count = protein.count(a)\n",
    "    protein_length = len(protein)\n",
    "    percentage = a_count * 100 / protein_length\n",
    "    return percentage"
   ]
  },
  {
   "cell_type": "code",
   "execution_count": 20,
   "metadata": {
    "collapsed": false
   },
   "outputs": [
    {
     "data": {
      "text/plain": [
       "True"
      ]
     },
     "execution_count": 20,
     "metadata": {},
     "output_type": "execute_result"
    }
   ],
   "source": [
    "get_a_percent(\"MSRSLLLRFLLFLLLLPPLP\", \"M\") == 5"
   ]
  },
  {
   "cell_type": "code",
   "execution_count": 21,
   "metadata": {
    "collapsed": false
   },
   "outputs": [
    {
     "data": {
      "text/plain": [
       "True"
      ]
     },
     "execution_count": 21,
     "metadata": {},
     "output_type": "execute_result"
    }
   ],
   "source": [
    "get_a_percent(\"MSRSLLLRFLLFLLLLPPLP\", \"r\") == 10"
   ]
  },
  {
   "cell_type": "code",
   "execution_count": 22,
   "metadata": {
    "collapsed": false
   },
   "outputs": [
    {
     "data": {
      "text/plain": [
       "True"
      ]
     },
     "execution_count": 22,
     "metadata": {},
     "output_type": "execute_result"
    }
   ],
   "source": [
    "get_a_percent(\"msrslllrfllfllllpplp\", \"L\") == 50"
   ]
  },
  {
   "cell_type": "code",
   "execution_count": 23,
   "metadata": {
    "collapsed": false
   },
   "outputs": [
    {
     "data": {
      "text/plain": [
       "True"
      ]
     },
     "execution_count": 23,
     "metadata": {},
     "output_type": "execute_result"
    }
   ],
   "source": [
    "get_a_percent(\"MSRSLLLRFLLFLLLLPPLP\", \"Y\") == 0"
   ]
  },
  {
   "cell_type": "code",
   "execution_count": 1,
   "metadata": {
    "collapsed": true
   },
   "outputs": [],
   "source": [
    "def get_a_percent(protein, aa_list = ['A','I','L','M','F','W','Y','V']):\n",
    "    protein = protein.upper()\n",
    "    protein_length = len(protein)\n",
    "    total = 0\n",
    "    for aa in aa_list:\n",
    "        aa = aa.upper()\n",
    "        aa_count = protein.count(aa)\n",
    "        total = total + aa_count\n",
    "    percentage = total * 100 / protein_length\n",
    "    return percentage"
   ]
  },
  {
   "cell_type": "code",
   "execution_count": 5,
   "metadata": {
    "collapsed": false
   },
   "outputs": [
    {
     "data": {
      "text/plain": [
       "True"
      ]
     },
     "execution_count": 5,
     "metadata": {},
     "output_type": "execute_result"
    }
   ],
   "source": [
    "get_a_percent(\"MSRSLLLRFLLFLLLLPPLP\",[\"M\"]) == 5"
   ]
  },
  {
   "cell_type": "code",
   "execution_count": 6,
   "metadata": {
    "collapsed": false
   },
   "outputs": [
    {
     "data": {
      "text/plain": [
       "True"
      ]
     },
     "execution_count": 6,
     "metadata": {},
     "output_type": "execute_result"
    }
   ],
   "source": [
    "get_a_percent(\"MSRSLLLRFLLFLLLLPPLP\",['M', 'L']) == 55"
   ]
  },
  {
   "cell_type": "code",
   "execution_count": 7,
   "metadata": {
    "collapsed": false
   },
   "outputs": [
    {
     "data": {
      "text/plain": [
       "True"
      ]
     },
     "execution_count": 7,
     "metadata": {},
     "output_type": "execute_result"
    }
   ],
   "source": [
    "get_a_percent(\"MSRSLLLRFLLFLLLLPPLP\",['F','S','L']) == 70"
   ]
  },
  {
   "cell_type": "code",
   "execution_count": 8,
   "metadata": {
    "collapsed": false
   },
   "outputs": [
    {
     "data": {
      "text/plain": [
       "True"
      ]
     },
     "execution_count": 8,
     "metadata": {},
     "output_type": "execute_result"
    }
   ],
   "source": [
    "get_a_percent(\"MSRSLLLRFLLFLLLLPPLP\") == 65"
   ]
  },
  {
   "cell_type": "code",
   "execution_count": null,
   "metadata": {
    "collapsed": true
   },
   "outputs": [],
   "source": []
  }
 ],
 "metadata": {
  "kernelspec": {
   "display_name": "Python 3",
   "language": "python",
   "name": "python3"
  },
  "language_info": {
   "codemirror_mode": {
    "name": "ipython",
    "version": 3
   },
   "file_extension": ".py",
   "mimetype": "text/x-python",
   "name": "python",
   "nbconvert_exporter": "python",
   "pygments_lexer": "ipython3",
   "version": "3.5.2"
  }
 },
 "nbformat": 4,
 "nbformat_minor": 2
}
