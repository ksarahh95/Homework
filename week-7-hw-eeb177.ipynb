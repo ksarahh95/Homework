{
 "cells": [
  {
   "cell_type": "markdown",
   "metadata": {},
   "source": [
    "# Week 7 hw: web scraping"
   ]
  },
  {
   "cell_type": "markdown",
   "metadata": {},
   "source": [
    "### My favorite fish: whale shark"
   ]
  },
  {
   "cell_type": "markdown",
   "metadata": {},
   "source": [
    "Scientific name: Rhincodon typus"
   ]
  },
  {
   "cell_type": "markdown",
   "metadata": {},
   "source": [
    "curl -s \"http://fishbase.us/summary/SpeciesSummary.php?ID=2081&AT=whale+shark\" >whaleshark.html"
   ]
  },
  {
   "cell_type": "markdown",
   "metadata": {},
   "source": [
    "The whale shark has a max length of 1,700 cm\n",
    "\n",
    "curl -s \"http://www.fishbase.us/summary/SpeciesSummary.php?ID=2081&AT=whale+shark\" | grep \"Max length\""
   ]
  },
  {
   "cell_type": "markdown",
   "metadata": {},
   "source": [
    "The whale shark has high vulnerability\n",
    "\n",
    "curl -s \"http://www.fishbase.us/summary/SpeciesSummary.php?ID=2081&AT=whale+shark\" | grep Vulnerability | cut -d ';' -f 1"
   ]
  },
  {
   "cell_type": "code",
   "execution_count": null,
   "metadata": {
    "collapsed": true
   },
   "outputs": [],
   "source": []
  }
 ],
 "metadata": {
  "kernelspec": {
   "display_name": "Python 3",
   "language": "python",
   "name": "python3"
  },
  "language_info": {
   "codemirror_mode": {
    "name": "ipython",
    "version": 3
   },
   "file_extension": ".py",
   "mimetype": "text/x-python",
   "name": "python",
   "nbconvert_exporter": "python",
   "pygments_lexer": "ipython3",
   "version": "3.5.2"
  }
 },
 "nbformat": 4,
 "nbformat_minor": 2
}
